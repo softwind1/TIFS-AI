{
 "cells": [
  {
   "cell_type": "code",
   "execution_count": null,
   "id": "370f7455",
   "metadata": {},
   "outputs": [
    {
     "name": "stdout",
     "output_type": "stream",
     "text": [
      "Enter whole numbers:-4 5 0 8 -9\n"
     ]
    }
   ],
   "source": [
    "l_negatives = [] \n",
    "l_zeros = []\n",
    "l_positives = []\n",
    "line = input(\"Enter whole numbers:\")\n",
    "while line != \"\":\n",
    "    number = int(input(line))\n",
    "    if num < 0:\n",
    "        l_negatives.append(num)\n",
    "    elif num > 0:\n",
    "        l_positives.append(num)\n",
    "    else:\n",
    "        zeros.append (num)\n",
    "print(\"l_negatives\")\n",
    "print(\"l_zeros\")\n",
    "print(\"l_positives\")\n",
    "    \n",
    "        \n",
    "        "
   ]
  },
  {
   "cell_type": "code",
   "execution_count": null,
   "id": "aa65b4c6",
   "metadata": {},
   "outputs": [],
   "source": []
  },
  {
   "cell_type": "code",
   "execution_count": null,
   "id": "3bb6625e",
   "metadata": {},
   "outputs": [],
   "source": []
  }
 ],
 "metadata": {
  "kernelspec": {
   "display_name": "Python 3 (ipykernel)",
   "language": "python",
   "name": "python3"
  },
  "language_info": {
   "codemirror_mode": {
    "name": "ipython",
    "version": 3
   },
   "file_extension": ".py",
   "mimetype": "text/x-python",
   "name": "python",
   "nbconvert_exporter": "python",
   "pygments_lexer": "ipython3",
   "version": "3.9.6"
  }
 },
 "nbformat": 4,
 "nbformat_minor": 5
}
